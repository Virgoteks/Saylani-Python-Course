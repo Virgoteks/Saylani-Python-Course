{
 "cells": [
  {
   "cell_type": "code",
   "execution_count": 1,
   "metadata": {},
   "outputs": [
    {
     "name": "stdout",
     "output_type": "stream",
     "text": [
      "Enter first Number: 6\n",
      "Enter a Operator: +\n",
      "Enter second Number: 4\n",
      "10.0\n"
     ]
    }
   ],
   "source": [
    "num1 = float(input(\"Enter first Number: \"))\n",
    "opt = input(\"Enter a Operator: \")\n",
    "num2 = float(input(\"Enter second Number: \"))\n",
    "\n",
    "if opt == \"+\":\n",
    "    print(num1 + num2)\n",
    "    \n",
    "elif opt ==\"-\":\n",
    "    print(num1 - num2)\n",
    "\n",
    "elif opt == \"*\":\n",
    "    print(num1 * num2)\n",
    "    \n",
    "elif opt == \"/\":\n",
    "    print(num1 / num2)\n",
    "else:\n",
    "    print(\"Invalid Operator\")"
   ]
  },
  {
   "cell_type": "code",
   "execution_count": 2,
   "metadata": {},
   "outputs": [
    {
     "name": "stdout",
     "output_type": "stream",
     "text": [
      "numeric value found\n"
     ]
    }
   ],
   "source": [
    "list1 = ['hafiz','syed','ahsan','hussain','1','7',9]\n",
    "for a in list1:\n",
    "    try:\n",
    "        if type(a) == int:\n",
    "            print(\"numeric value found\")\n",
    "        elif type(a) == float:\n",
    "            print(\"numeric value found\")\n",
    "    except:\n",
    "        pass"
   ]
  },
  {
   "cell_type": "code",
   "execution_count": 3,
   "metadata": {},
   "outputs": [
    {
     "name": "stdout",
     "output_type": "stream",
     "text": [
      "enter something to add as key: ahsan\n",
      "{'ahsan': None}\n"
     ]
    }
   ],
   "source": [
    "d = {} \n",
    "addkey = input('enter something to add as key: ')\n",
    "d[addkey] = None\n",
    "      \n",
    "print(d) "
   ]
  },
  {
   "cell_type": "code",
   "execution_count": 4,
   "metadata": {},
   "outputs": [
    {
     "name": "stdout",
     "output_type": "stream",
     "text": [
      "Sum : 1100\n"
     ]
    }
   ],
   "source": [
    "dict1 = {'a':100,'b':200,'c':300,'d':500} \n",
    "num = 0\n",
    "for i in dict1: \n",
    "    num = num + dict1[i] \n",
    "\n",
    "print(\"Sum :\", num) "
   ]
  },
  {
   "cell_type": "code",
   "execution_count": 5,
   "metadata": {},
   "outputs": [
    {
     "name": "stdout",
     "output_type": "stream",
     "text": [
      "[10, 20, 30, 70, 60, 90]\n"
     ]
    }
   ],
   "source": [
    "list2 = [10, 20, 30, 20, 20, 30, 40, 50, 70, 60, 60, 70, 90, 15, 10, 90] \n",
    "list2_size = len(list2) \n",
    "repeated = [] \n",
    "for i in range(list2_size): \n",
    "    k = i + 1\n",
    "    for j in range(k, list2_size): \n",
    "        if list2[i] == list2[j] and list2[i] not in repeated: \n",
    "            repeated.append(list2[i]) \n",
    "print(repeated) "
   ]
  },
  {
   "cell_type": "code",
   "execution_count": 6,
   "metadata": {},
   "outputs": [
    {
     "name": "stdout",
     "output_type": "stream",
     "text": [
      "enter key to find: 5\n",
      "Key is present in the dictionary\n"
     ]
    }
   ],
   "source": [
    "dict2 = {1: 10, 2: 20, 3: 30, 4: 40, 5: 50, 6: 60}\n",
    "find_key = input('enter key to find: ')\n",
    "if find_key in dict2:\n",
    "    print('Key is present in the dictionary')\n",
    "elif int(find_key) in dict2:\n",
    "    print('Key is present in the dictionary')\n",
    "elif float(find_key) in dict2:\n",
    "    print('Key is present in the dictionary')\n",
    "else:\n",
    "    print('Key is not present in the dictionary')"
   ]
  },
  {
   "cell_type": "code",
   "execution_count": null,
   "metadata": {},
   "outputs": [],
   "source": []
  }
 ],
 "metadata": {
  "kernelspec": {
   "display_name": "Python 3",
   "language": "python",
   "name": "python3"
  },
  "language_info": {
   "codemirror_mode": {
    "name": "ipython",
    "version": 3
   },
   "file_extension": ".py",
   "mimetype": "text/x-python",
   "name": "python",
   "nbconvert_exporter": "python",
   "pygments_lexer": "ipython3",
   "version": "3.7.4"
  }
 },
 "nbformat": 4,
 "nbformat_minor": 2
}
