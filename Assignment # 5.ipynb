{
 "cells": [
  {
   "cell_type": "code",
   "execution_count": 1,
   "metadata": {},
   "outputs": [
    {
     "name": "stdout",
     "output_type": "stream",
     "text": [
      "Input a Number to Compute the Factorial : 3\n",
      "6\n"
     ]
    }
   ],
   "source": [
    "# Q.1\n",
    "\n",
    "def Factorial(num):\n",
    "    if num == 0:\n",
    "        return 1\n",
    "    else:\n",
    "        return num * Factorial(num - 1)\n",
    "\n",
    "num = int(input(\"Input a Number to Compute the Factorial : \"))\n",
    "print(Factorial(num))"
   ]
  },
  {
   "cell_type": "code",
   "execution_count": 2,
   "metadata": {},
   "outputs": [
    {
     "name": "stdout",
     "output_type": "stream",
     "text": [
      "Please Enter your string: My Name is Hafiz SYED Ahsan Hussain\n",
      "Total Number of Upper Case Letters :  9\n",
      "Total Number of Lower Case Letters :  20\n"
     ]
    }
   ],
   "source": [
    "# Q.2\n",
    "\n",
    "def case_sense(your_string):\n",
    "    dict1 = {\"UPPER_CASE\":0, \"LOWER_CASE\":0}\n",
    "    for case in your_string:\n",
    "        if case.isupper():\n",
    "            dict1[\"UPPER_CASE\"] += 1\n",
    "        elif case.islower():\n",
    "            dict1[\"LOWER_CASE\"] += 1\n",
    "        else:\n",
    "            pass\n",
    "\n",
    "    print (\"Total Number of Upper Case Letters : \", dict1[\"UPPER_CASE\"])\n",
    "    print (\"Total Number of Lower Case Letters : \", dict1[\"LOWER_CASE\"])\n",
    "\n",
    "your_string = input('Please Enter your string: ')\n",
    "case_sense(your_string)"
   ]
  },
  {
   "cell_type": "code",
   "execution_count": 3,
   "metadata": {},
   "outputs": [
    {
     "name": "stdout",
     "output_type": "stream",
     "text": [
      "76 22 88 "
     ]
    }
   ],
   "source": [
    "# Q.3\n",
    "\n",
    "def even_num(list1):\n",
    "    for num in list1: \n",
    "        if num % 2 == 0: \n",
    "            print(num, end = \" \") \n",
    "            \n",
    "list1 = [23,45,76,43,22,89,88] \n",
    "even_num(list1)"
   ]
  },
  {
   "cell_type": "code",
   "execution_count": 4,
   "metadata": {},
   "outputs": [
    {
     "name": "stdout",
     "output_type": "stream",
     "text": [
      "Input an string to check: lol\n",
      "True\n"
     ]
    }
   ],
   "source": [
    "# Q.4\n",
    "\n",
    "def isPalindrome(string):\n",
    "    left_pos = 0\n",
    "    right_pos = len(string) - 1\n",
    "    \n",
    "    while right_pos >= left_pos:\n",
    "        if not string[left_pos] == string[right_pos]:\n",
    "            return False\n",
    "        left_pos += 1\n",
    "        right_pos -= 1\n",
    "    return True\n",
    "\n",
    "string = input('Input an string to check: ')\n",
    "print(isPalindrome(string))"
   ]
  },
  {
   "cell_type": "code",
   "execution_count": 5,
   "metadata": {},
   "outputs": [
    {
     "name": "stdout",
     "output_type": "stream",
     "text": [
      "Enter a number: 13\n",
      "True\n"
     ]
    }
   ],
   "source": [
    "# Q.5\n",
    "\n",
    "def test_prime(num):\n",
    "    if (num == 1):\n",
    "        return False\n",
    "    elif (num == 2):\n",
    "        return True;\n",
    "    else:\n",
    "        for x in range(2,num):\n",
    "            if(num % x == 0):\n",
    "                return False\n",
    "        return True\n",
    "num = int(input('Enter a number: '))\n",
    "print(test_prime(num))"
   ]
  },
  {
   "cell_type": "code",
   "execution_count": 6,
   "metadata": {},
   "outputs": [
    {
     "name": "stdout",
     "output_type": "stream",
     "text": [
      "\n",
      "Enter the item you bought from market \n",
      "If you leave enter'quit': Apple\n",
      "\n",
      "Enter the item you bought from market \n",
      "If you leave enter'quit': Banana\n",
      "\n",
      "Enter the item you bought from market \n",
      "If you leave enter'quit': Orange\n",
      "\n",
      "Enter the item you bought from market \n",
      "If you leave enter'quit': quit\n",
      "\n",
      "--------- Shopping List --------\n",
      "You bought:  Apple\n",
      "You bought:  Banana\n",
      "You bought:  Orange\n"
     ]
    }
   ],
   "source": [
    "# Q.6\n",
    "\n",
    "def customer_shopping(shopping_list):\n",
    "    print(\"\\n--------- Shopping List --------\")    \n",
    "    for element in shopping_list:\n",
    "        print(\"You bought: \",element)\n",
    "\n",
    "shopping_list = []\n",
    "\n",
    "while True:\n",
    "    items = input(\"\\nEnter the item you bought from market \\nIf you leave enter'quit': \")\n",
    "    if items == 'quit':\n",
    "        break\n",
    "    shopping_list.append(items)\n",
    "\n",
    "customer_shopping(shopping_list)"
   ]
  }
 ],
 "metadata": {
  "kernelspec": {
   "display_name": "Python 3",
   "language": "python",
   "name": "python3"
  },
  "language_info": {
   "codemirror_mode": {
    "name": "ipython",
    "version": 3
   },
   "file_extension": ".py",
   "mimetype": "text/x-python",
   "name": "python",
   "nbconvert_exporter": "python",
   "pygments_lexer": "ipython3",
   "version": "3.7.4"
  }
 },
 "nbformat": 4,
 "nbformat_minor": 2
}
