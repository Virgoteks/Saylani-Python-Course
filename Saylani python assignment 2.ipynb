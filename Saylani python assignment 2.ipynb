{
 "cells": [
  {
   "cell_type": "code",
   "execution_count": 1,
   "metadata": {},
   "outputs": [
    {
     "name": "stdout",
     "output_type": "stream",
     "text": [
      "enter english marks: 97\n",
      "enter urdu marks: 76\n",
      "enter maths marks: 54\n",
      "enter physics marks: 56\n",
      "enter chemistry marks: 78\n",
      "Grade: C\n"
     ]
    }
   ],
   "source": [
    "english_marks = int(input(\"enter english marks: \"))\n",
    "urdu_marks = int(input(\"enter urdu marks: \"))\n",
    "maths_marks = int(input(\"enter maths marks: \"))\n",
    "physics_marks = int(input(\"enter physics marks: \"))\n",
    "chemistry_marks = int(input(\"enter chemistry marks: \"))\n",
    "average_marks = (english_marks+urdu_marks+maths_marks+physics_marks+chemistry_marks) / 5\n",
    "if (average_marks >= 90):\n",
    "    print(\"Grade: A\")\n",
    "elif(average_marks >= 80) & (average_marks < 90):\n",
    "    print(\"Grade: B\")\n",
    "elif(average_marks >= 70) & (average_marks < 80):\n",
    "    print(\"Grade: C\")\n",
    "elif(average_marks >= 60) & (average_marks < 70):\n",
    "    print(\"Grade: D\")\n",
    "else:\n",
    "    print(\"Sorry, you are failed\")"
   ]
  },
  {
   "cell_type": "code",
   "execution_count": 2,
   "metadata": {},
   "outputs": [
    {
     "name": "stdout",
     "output_type": "stream",
     "text": [
      "Enter any number: 6\n",
      "This is an even number.\n"
     ]
    }
   ],
   "source": [
    "input_number = int(input(\"Enter any number: \"))\n",
    "result = input_number % 2\n",
    "if result > 0:\n",
    "    print(\"This is an odd number.\")\n",
    "else:\n",
    "    print(\"This is an even number.\")"
   ]
  },
  {
   "cell_type": "code",
   "execution_count": 3,
   "metadata": {},
   "outputs": [
    {
     "name": "stdout",
     "output_type": "stream",
     "text": [
      "9\n"
     ]
    }
   ],
   "source": [
    "list1 = [1,2,3,4,5,6,7,8,9] \n",
    "print(len(list1))"
   ]
  },
  {
   "cell_type": "code",
   "execution_count": 4,
   "metadata": {},
   "outputs": [
    {
     "name": "stdout",
     "output_type": "stream",
     "text": [
      "55\n"
     ]
    }
   ],
   "source": [
    "list2 = [1,2,3,4,5,6,7,8,9,10]\n",
    "sum_total = 0\n",
    "for i in list2:\n",
    "    sum_total +=  i\n",
    "    \n",
    "print(sum_total)"
   ]
  },
  {
   "cell_type": "code",
   "execution_count": 5,
   "metadata": {},
   "outputs": [
    {
     "name": "stdout",
     "output_type": "stream",
     "text": [
      "17\n"
     ]
    }
   ],
   "source": [
    "list3 = [1,2,3,4,5,16,7,8,9,17]\n",
    "largest_number = list3[0]\n",
    "for i in list3:\n",
    "    if i > largest_number:\n",
    "        largest_number = i\n",
    "print(largest_number)"
   ]
  },
  {
   "cell_type": "code",
   "execution_count": 6,
   "metadata": {},
   "outputs": [
    {
     "name": "stdout",
     "output_type": "stream",
     "text": [
      "[1, 1, 2, 3]\n"
     ]
    }
   ],
   "source": [
    "list4 = [1, 1, 2, 3, 5, 8, 13, 21, 34, 55, 89]\n",
    "new_list = []\n",
    "for item in list4:\n",
    "    if item < 5:\n",
    "        new_list.append(item)\n",
    "print(new_list)"
   ]
  },
  {
   "cell_type": "code",
   "execution_count": null,
   "metadata": {},
   "outputs": [],
   "source": []
  }
 ],
 "metadata": {
  "kernelspec": {
   "display_name": "Python 3",
   "language": "python",
   "name": "python3"
  },
  "language_info": {
   "codemirror_mode": {
    "name": "ipython",
    "version": 3
   },
   "file_extension": ".py",
   "mimetype": "text/x-python",
   "name": "python",
   "nbconvert_exporter": "python",
   "pygments_lexer": "ipython3",
   "version": "3.7.4"
  }
 },
 "nbformat": 4,
 "nbformat_minor": 2
}
